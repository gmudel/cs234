{
 "cells": [
  {
   "cell_type": "code",
   "execution_count": 1,
   "metadata": {},
   "outputs": [],
   "source": [
    "import math\n",
    "import pandas as pd\n",
    "import numpy as np"
   ]
  },
  {
   "cell_type": "code",
   "execution_count": 2,
   "metadata": {},
   "outputs": [],
   "source": [
    "data = pd.read_csv('data/warfarin.csv')\n",
    "data = data[data['Therapeutic Dose of Warfarin'].notnull()]"
   ]
  },
  {
   "cell_type": "code",
   "execution_count": 3,
   "metadata": {},
   "outputs": [],
   "source": [
    "data = data.reset_index(drop=True) # fix weird row indexing "
   ]
  },
  {
   "cell_type": "code",
   "execution_count": 4,
   "metadata": {},
   "outputs": [],
   "source": [
    "def assign_bucket(n):\n",
    "    if n < 21:\n",
    "        return 0\n",
    "    elif n > 49:\n",
    "        return 2\n",
    "    else:\n",
    "        return 1\n"
   ]
  },
  {
   "cell_type": "code",
   "execution_count": 5,
   "metadata": {},
   "outputs": [],
   "source": [
    "def create_feature_vec(row):\n",
    "    x = np.zeros([8,1])\n",
    "    index = row.index[0]\n",
    "    \n",
    "    # Age \n",
    "    age =  row.loc[index, 'Age']\n",
    "    if type(age) != float:\n",
    "        x[0] = int(age[0])\n",
    "    \n",
    "    # Height \n",
    "    height = row.loc[index,'Height (cm)']\n",
    "    if not math.isnan(height):\n",
    "        x[1] = height\n",
    "    \n",
    "    # Weight \n",
    "    weight = row.loc[index,'Weight (kg)']\n",
    "    if not math.isnan(weight):\n",
    "        x[2] = weight \n",
    "    \n",
    "    race = row.loc[index,'Race']\n",
    "    # Race\n",
    "    if race == 'Asian':\n",
    "        x[3] = 1\n",
    "    if race == 'Black or African American':\n",
    "        x[4] = 1\n",
    "    if race == 'Unknown':\n",
    "        x[5] = 1\n",
    "\n",
    "    # enzyme inducer \n",
    "    carbamazepine = int(row.loc[index,'Carbamazepine (Tegretol)']) if not math.isnan(row.loc[index,'Carbamazepine (Tegretol)']) else 0\n",
    "    phenytoin = int(row.loc[index,'Phenytoin (Dilantin)']) if not math.isnan(row.loc[index,'Phenytoin (Dilantin)']) else 0\n",
    "    rifampin = int(row.loc[index,'Rifampin or Rifampicin']) if not math.isnan(row.loc[index,'Rifampin or Rifampicin']) else 0\n",
    "\n",
    "    if carbamazepine or phenytoin or rifampin:\n",
    "        x[6] = 1\n",
    "    \n",
    "    # amiodarone \n",
    "    amiodarone = int(row.loc[index,'Amiodarone (Cordarone)']) if not math.isnan(row.loc[index,'Amiodarone (Cordarone)']) else 0\n",
    "    if amiodarone: \n",
    "        x[7] = 1\n",
    "    \n",
    "    return x\n",
    "\n"
   ]
  },
  {
   "cell_type": "code",
   "execution_count": 6,
   "metadata": {},
   "outputs": [],
   "source": [
    "def new_create_feature_vec(row):\n",
    "    x = np.zeros([17,1])\n",
    "    index = row.index[0]\n",
    "    \n",
    "    # Age \n",
    "    age =  row.loc[index, 'Age']\n",
    "    if type(age) != float:\n",
    "        x[0] = int(age[0])\n",
    "    \n",
    "    # Height \n",
    "    height = row.loc[index,'Height (cm)']\n",
    "    if not math.isnan(height):\n",
    "        x[1] = height\n",
    "    \n",
    "    # Weight \n",
    "    weight = row.loc[index,'Weight (kg)']\n",
    "    if not math.isnan(weight):\n",
    "        x[2] = weight \n",
    "\n",
    "    # VKORC1 \n",
    "    vkorc1_ag = row.loc[index, 'VKORC1 genotype: -1639 G>A (3673); chr16:31015190; rs9923231; C/T']\n",
    "    if type(vkorc1_ag) != float:\n",
    "        if vkorc1_ag == 'A/G':\n",
    "            x[3] = 1\n",
    "        if vkorc1_ag == 'A/A':\n",
    "            x[4] = 1\n",
    "        if vkorc1_ag == 'NA':\n",
    "            x[5] = 1\n",
    "    \n",
    "    # CYP2C9 \n",
    "    cyp2c9 = row.loc[index, 'Cyp2C9 genotypes']\n",
    "    if type(cyp2c9) != float:\n",
    "        if cyp2c9 == '*1/*2':\n",
    "            x[6] = 1\n",
    "        if cyp2c9 == '*1/*3':\n",
    "            x[7] = 1\n",
    "        if cyp2c9 == '*2/*2':\n",
    "            x[8] = 1\n",
    "        if cyp2c9 == '*2/*3':\n",
    "            x[9] = 1\n",
    "        if cyp2c9 == '*3/*3':\n",
    "            x[10] = 1\n",
    "        if cyp2c9 == 'NA':\n",
    "            x[11] = 1\n",
    "    \n",
    "    race = row.loc[index,'Race']\n",
    "    # Race\n",
    "    if race == 'Asian':\n",
    "        x[12] = 1\n",
    "    if race == 'Black or African American':\n",
    "        x[13] = 1\n",
    "    if race == 'Unknown':\n",
    "        x[14] = 1\n",
    "\n",
    "    # enzyme inducer \n",
    "    carbamazepine = int(row.loc[index,'Carbamazepine (Tegretol)']) if not math.isnan(row.loc[index,'Carbamazepine (Tegretol)']) else 0\n",
    "    phenytoin = int(row.loc[index,'Phenytoin (Dilantin)']) if not math.isnan(row.loc[index,'Phenytoin (Dilantin)']) else 0\n",
    "    rifampin = int(row.loc[index,'Rifampin or Rifampicin']) if not math.isnan(row.loc[index,'Rifampin or Rifampicin']) else 0\n",
    "\n",
    "    if carbamazepine or phenytoin or rifampin:\n",
    "        x[15] = 1\n",
    "    \n",
    "    # amiodarone \n",
    "    amiodarone = int(row.loc[index,'Amiodarone (Cordarone)']) if not math.isnan(row.loc[index,'Amiodarone (Cordarone)']) else 0\n",
    "    if amiodarone: \n",
    "        x[16] = 1\n",
    "    \n",
    "    return x\n",
    "\n"
   ]
  },
  {
   "cell_type": "code",
   "execution_count": 7,
   "metadata": {},
   "outputs": [
    {
     "name": "stdout",
     "output_type": "stream",
     "text": [
      "5528\n",
      "5528\n"
     ]
    }
   ],
   "source": [
    "doses = data['Therapeutic Dose of Warfarin']\n",
    "doses = doses.apply(lambda dose : assign_bucket(dose)).to_numpy()\n",
    "print(len(doses))\n",
    "print(len(data))"
   ]
  },
  {
   "cell_type": "code",
   "execution_count": 17,
   "metadata": {},
   "outputs": [
    {
     "name": "stderr",
     "output_type": "stream",
     "text": [
      "/var/folders/jh/ff54n4cs6rn981l4w_dg6bb00000gn/T/ipykernel_23466/836328095.py:15: RuntimeWarning: covariance is not positive-semidefinite.\n",
      "  mu_tildes = [np.random.multivariate_normal(mu_hat, v*v*np.linalg.inv(B)) for mu_hat, B in zip(mu_hat_list, B_list)]\n"
     ]
    }
   ],
   "source": [
    "r_list = []\n",
    "T = len(data)\n",
    "d = 17\n",
    "R = 1\n",
    "eps = 1 / np.log(T)\n",
    "delta = .1\n",
    "v = R * (24 / eps * d * np.log(1 / delta))\n",
    "\n",
    "B_list = [np.identity(d), np.identity(d), np.identity(d)]\n",
    "mu_hat_list = [np.zeros(d), np.zeros(d), np.zeros(d)]\n",
    "f_list = [np.zeros(d), np.zeros(d), np.zeros(d)]\n",
    "for t in range(T):\n",
    "    row = data.sample(replace=False)\n",
    "    x = new_create_feature_vec(row)\n",
    "    mu_tildes = [np.random.multivariate_normal(mu_hat, v*v*np.linalg.inv(B)) for mu_hat, B in zip(mu_hat_list, B_list)]\n",
    "    arm_scores = [x.T @ mu_tilde for mu_tilde in mu_tildes]\n",
    "\n",
    "    best_a = np.argmax(arm_scores)    \n",
    "    correct_dose = doses[row.index[0]]\n",
    "\n",
    "    r = 0\n",
    "    if best_a != correct_dose: \n",
    "        r = -1\n",
    "    r_list.append(r)\n",
    "    for i in range(3):\n",
    "        B_list[i] += x @ x.T\n",
    "        f_list[i] += x.squeeze() * r\n",
    "        mu_hat_list[i] = np.linalg.inv(B_list[i]) @ f_list[i]"
   ]
  },
  {
   "cell_type": "code",
   "execution_count": 18,
   "metadata": {},
   "outputs": [
    {
     "data": {
      "text/plain": [
       "-3696"
      ]
     },
     "execution_count": 18,
     "metadata": {},
     "output_type": "execute_result"
    }
   ],
   "source": [
    "sum(r_list)\n"
   ]
  }
 ],
 "metadata": {
  "kernelspec": {
   "display_name": "Python 3 (ipykernel)",
   "language": "python",
   "name": "python3"
  },
  "language_info": {
   "codemirror_mode": {
    "name": "ipython",
    "version": 3
   },
   "file_extension": ".py",
   "mimetype": "text/x-python",
   "name": "python",
   "nbconvert_exporter": "python",
   "pygments_lexer": "ipython3",
   "version": "3.9.12"
  },
  "orig_nbformat": 4
 },
 "nbformat": 4,
 "nbformat_minor": 2
}
