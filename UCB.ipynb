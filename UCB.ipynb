{
 "cells": [
  {
   "attachments": {},
   "cell_type": "markdown",
   "metadata": {},
   "source": [
    "## Linear Bandits UCB "
   ]
  },
  {
   "cell_type": "code",
   "execution_count": 1,
   "metadata": {},
   "outputs": [],
   "source": [
    "import math\n",
    "import pandas as pd\n",
    "import numpy as np"
   ]
  },
  {
   "cell_type": "code",
   "execution_count": 2,
   "metadata": {},
   "outputs": [],
   "source": [
    "data = pd.read_csv('data/warfarin.csv')\n",
    "data = data[data['Therapeutic Dose of Warfarin'].notnull()]"
   ]
  },
  {
   "cell_type": "code",
   "execution_count": 3,
   "metadata": {},
   "outputs": [],
   "source": [
    "data = data.reset_index(drop=True) # fix weird row indexing "
   ]
  },
  {
   "cell_type": "code",
   "execution_count": 4,
   "metadata": {},
   "outputs": [],
   "source": [
    "def assign_bucket(n):\n",
    "    if n < 21:\n",
    "        return 0\n",
    "    elif n > 49:\n",
    "        return 2\n",
    "    else:\n",
    "        return 1\n"
   ]
  },
  {
   "cell_type": "code",
   "execution_count": 5,
   "metadata": {},
   "outputs": [],
   "source": [
    "def create_feature_vec(row):\n",
    "    x = np.zeros([8,1])\n",
    "    index = row.index[0]\n",
    "    \n",
    "    # Age \n",
    "    age =  row.loc[index, 'Age']\n",
    "    if type(age) != float:\n",
    "        x[0] = int(age[0])\n",
    "    \n",
    "    # Height \n",
    "    height = row.loc[index,'Height (cm)']\n",
    "    if not math.isnan(height):\n",
    "        x[1] = height\n",
    "    \n",
    "    # Weight \n",
    "    weight = row.loc[index,'Weight (kg)']\n",
    "    if not math.isnan(weight):\n",
    "        x[2] = weight \n",
    "    \n",
    "    race = row.loc[index,'Race']\n",
    "    # Race\n",
    "    if race == 'Asian':\n",
    "        x[3] = 1\n",
    "    if race == 'Black or African American':\n",
    "        x[4] = 1\n",
    "    if race == 'Unknown':\n",
    "        x[5] = 1\n",
    "\n",
    "    # enzyme inducer \n",
    "    carbamazepine = int(row.loc[index,'Carbamazepine (Tegretol)']) if not math.isnan(row.loc[index,'Carbamazepine (Tegretol)']) else 0\n",
    "    phenytoin = int(row.loc[index,'Phenytoin (Dilantin)']) if not math.isnan(row.loc[index,'Phenytoin (Dilantin)']) else 0\n",
    "    rifampin = int(row.loc[index,'Rifampin or Rifampicin']) if not math.isnan(row.loc[index,'Rifampin or Rifampicin']) else 0\n",
    "\n",
    "    if carbamazepine or phenytoin or rifampin:\n",
    "        x[6] = 1\n",
    "    \n",
    "    # amiodarone \n",
    "    amiodarone = int(row.loc[index,'Amiodarone (Cordarone)']) if not math.isnan(row.loc[index,'Amiodarone (Cordarone)']) else 0\n",
    "    if amiodarone: \n",
    "        x[7] = 1\n",
    "    \n",
    "    return x\n",
    "\n"
   ]
  },
  {
   "cell_type": "code",
   "execution_count": 13,
   "metadata": {},
   "outputs": [],
   "source": [
    "def new_create_feature_vec(row):\n",
    "    x = np.zeros([17,1])\n",
    "    index = row.index[0]\n",
    "    \n",
    "    # Age \n",
    "    age =  row.loc[index, 'Age']\n",
    "    if type(age) != float:\n",
    "        x[0] = int(age[0])\n",
    "    \n",
    "    # Height \n",
    "    height = row.loc[index,'Height (cm)']\n",
    "    if not math.isnan(height):\n",
    "        x[1] = height\n",
    "    \n",
    "    # Weight \n",
    "    weight = row.loc[index,'Weight (kg)']\n",
    "    if not math.isnan(weight):\n",
    "        x[2] = weight \n",
    "\n",
    "    # VKORC1 \n",
    "    vkorc1_ag = row.loc[index, 'VKORC1 genotype: -1639 G>A (3673); chr16:31015190; rs9923231; C/T']\n",
    "    if type(vkorc1_ag) != float:\n",
    "        if vkorc1_ag == 'A/G':\n",
    "            x[3] = 1\n",
    "        if vkorc1_ag == 'A/A':\n",
    "            x[4] = 1\n",
    "        if vkorc1_ag == 'NA':\n",
    "            x[5] = 1\n",
    "    \n",
    "    # CYP2C9 \n",
    "    cyp2c9 = row.loc[index, 'Cyp2C9 genotypes']\n",
    "    if type(cyp2c9) != float:\n",
    "        if cyp2c9 == '*1/*2':\n",
    "            x[6] = 1\n",
    "        if cyp2c9 == '*1/*3':\n",
    "            x[7] = 1\n",
    "        if cyp2c9 == '*2/*2':\n",
    "            x[8] = 1\n",
    "        if cyp2c9 == '*2/*3':\n",
    "            x[9] = 1\n",
    "        if cyp2c9 == '*3/*3':\n",
    "            x[10] = 1\n",
    "        if cyp2c9 == 'NA':\n",
    "            x[11] = 1\n",
    "    \n",
    "    race = row.loc[index,'Race']\n",
    "    # Race\n",
    "    if race == 'Asian':\n",
    "        x[12] = 1\n",
    "    if race == 'Black or African American':\n",
    "        x[13] = 1\n",
    "    if race == 'Unknown':\n",
    "        x[14] = 1\n",
    "\n",
    "    # enzyme inducer \n",
    "    carbamazepine = int(row.loc[index,'Carbamazepine (Tegretol)']) if not math.isnan(row.loc[index,'Carbamazepine (Tegretol)']) else 0\n",
    "    phenytoin = int(row.loc[index,'Phenytoin (Dilantin)']) if not math.isnan(row.loc[index,'Phenytoin (Dilantin)']) else 0\n",
    "    rifampin = int(row.loc[index,'Rifampin or Rifampicin']) if not math.isnan(row.loc[index,'Rifampin or Rifampicin']) else 0\n",
    "\n",
    "    if carbamazepine or phenytoin or rifampin:\n",
    "        x[15] = 1\n",
    "    \n",
    "    # amiodarone \n",
    "    amiodarone = int(row.loc[index,'Amiodarone (Cordarone)']) if not math.isnan(row.loc[index,'Amiodarone (Cordarone)']) else 0\n",
    "    if amiodarone: \n",
    "        x[16] = 1\n",
    "    \n",
    "    return x\n",
    "\n"
   ]
  },
  {
   "cell_type": "code",
   "execution_count": 6,
   "metadata": {},
   "outputs": [
    {
     "name": "stdout",
     "output_type": "stream",
     "text": [
      "5528\n",
      "5528\n"
     ]
    }
   ],
   "source": [
    "doses = data['Therapeutic Dose of Warfarin']\n",
    "doses = doses.apply(lambda dose : assign_bucket(dose)).to_numpy()\n",
    "print(len(doses))\n",
    "print(len(data))"
   ]
  },
  {
   "cell_type": "code",
   "execution_count": 14,
   "metadata": {},
   "outputs": [
    {
     "ename": "KeyError",
     "evalue": "'rs9923231'",
     "output_type": "error",
     "traceback": [
      "\u001b[0;31m---------------------------------------------------------------------------\u001b[0m",
      "\u001b[0;31mKeyError\u001b[0m                                  Traceback (most recent call last)",
      "File \u001b[0;32m/Library/Frameworks/Python.framework/Versions/3.10/lib/python3.10/site-packages/pandas/core/indexes/base.py:3802\u001b[0m, in \u001b[0;36mIndex.get_loc\u001b[0;34m(self, key, method, tolerance)\u001b[0m\n\u001b[1;32m   3801\u001b[0m \u001b[39mtry\u001b[39;00m:\n\u001b[0;32m-> 3802\u001b[0m     \u001b[39mreturn\u001b[39;00m \u001b[39mself\u001b[39;49m\u001b[39m.\u001b[39;49m_engine\u001b[39m.\u001b[39;49mget_loc(casted_key)\n\u001b[1;32m   3803\u001b[0m \u001b[39mexcept\u001b[39;00m \u001b[39mKeyError\u001b[39;00m \u001b[39mas\u001b[39;00m err:\n",
      "File \u001b[0;32m/Library/Frameworks/Python.framework/Versions/3.10/lib/python3.10/site-packages/pandas/_libs/index.pyx:138\u001b[0m, in \u001b[0;36mpandas._libs.index.IndexEngine.get_loc\u001b[0;34m()\u001b[0m\n",
      "File \u001b[0;32m/Library/Frameworks/Python.framework/Versions/3.10/lib/python3.10/site-packages/pandas/_libs/index.pyx:165\u001b[0m, in \u001b[0;36mpandas._libs.index.IndexEngine.get_loc\u001b[0;34m()\u001b[0m\n",
      "File \u001b[0;32mpandas/_libs/hashtable_class_helper.pxi:5745\u001b[0m, in \u001b[0;36mpandas._libs.hashtable.PyObjectHashTable.get_item\u001b[0;34m()\u001b[0m\n",
      "File \u001b[0;32mpandas/_libs/hashtable_class_helper.pxi:5753\u001b[0m, in \u001b[0;36mpandas._libs.hashtable.PyObjectHashTable.get_item\u001b[0;34m()\u001b[0m\n",
      "\u001b[0;31mKeyError\u001b[0m: 'rs9923231'",
      "\nThe above exception was the direct cause of the following exception:\n",
      "\u001b[0;31mKeyError\u001b[0m                                  Traceback (most recent call last)",
      "Cell \u001b[0;32mIn[14], line 16\u001b[0m\n\u001b[1;32m     13\u001b[0m row \u001b[39m=\u001b[39m data\u001b[39m.\u001b[39msample(replace\u001b[39m=\u001b[39m\u001b[39mFalse\u001b[39;00m)\n\u001b[1;32m     14\u001b[0m \u001b[39m# row = data.loc[[t]]\u001b[39;00m\n\u001b[0;32m---> 16\u001b[0m x \u001b[39m=\u001b[39m new_create_feature_vec(row)\n\u001b[1;32m     18\u001b[0m p \u001b[39m=\u001b[39m np\u001b[39m.\u001b[39mzeros(\u001b[39m3\u001b[39m)\n\u001b[1;32m     19\u001b[0m \u001b[39mfor\u001b[39;00m a \u001b[39min\u001b[39;00m \u001b[39mrange\u001b[39m(num_a):\n",
      "Cell \u001b[0;32mIn[13], line 21\u001b[0m, in \u001b[0;36mnew_create_feature_vec\u001b[0;34m(row)\u001b[0m\n\u001b[1;32m     18\u001b[0m     x[\u001b[39m2\u001b[39m] \u001b[39m=\u001b[39m weight \n\u001b[1;32m     20\u001b[0m \u001b[39m# VKORC1 \u001b[39;00m\n\u001b[0;32m---> 21\u001b[0m vkorc1_ag \u001b[39m=\u001b[39m row\u001b[39m.\u001b[39;49mloc[index, \u001b[39m'\u001b[39;49m\u001b[39mrs9923231\u001b[39;49m\u001b[39m'\u001b[39;49m]\n\u001b[1;32m     22\u001b[0m \u001b[39mif\u001b[39;00m \u001b[39mtype\u001b[39m(vkorc1_ag) \u001b[39m!=\u001b[39m \u001b[39mfloat\u001b[39m:\n\u001b[1;32m     23\u001b[0m     \u001b[39mif\u001b[39;00m vkorc1_ag \u001b[39m==\u001b[39m \u001b[39m'\u001b[39m\u001b[39mA/G\u001b[39m\u001b[39m'\u001b[39m:\n",
      "File \u001b[0;32m/Library/Frameworks/Python.framework/Versions/3.10/lib/python3.10/site-packages/pandas/core/indexing.py:1066\u001b[0m, in \u001b[0;36m_LocationIndexer.__getitem__\u001b[0;34m(self, key)\u001b[0m\n\u001b[1;32m   1064\u001b[0m     key \u001b[39m=\u001b[39m \u001b[39mtuple\u001b[39m(com\u001b[39m.\u001b[39mapply_if_callable(x, \u001b[39mself\u001b[39m\u001b[39m.\u001b[39mobj) \u001b[39mfor\u001b[39;00m x \u001b[39min\u001b[39;00m key)\n\u001b[1;32m   1065\u001b[0m     \u001b[39mif\u001b[39;00m \u001b[39mself\u001b[39m\u001b[39m.\u001b[39m_is_scalar_access(key):\n\u001b[0;32m-> 1066\u001b[0m         \u001b[39mreturn\u001b[39;00m \u001b[39mself\u001b[39;49m\u001b[39m.\u001b[39;49mobj\u001b[39m.\u001b[39;49m_get_value(\u001b[39m*\u001b[39;49mkey, takeable\u001b[39m=\u001b[39;49m\u001b[39mself\u001b[39;49m\u001b[39m.\u001b[39;49m_takeable)\n\u001b[1;32m   1067\u001b[0m     \u001b[39mreturn\u001b[39;00m \u001b[39mself\u001b[39m\u001b[39m.\u001b[39m_getitem_tuple(key)\n\u001b[1;32m   1068\u001b[0m \u001b[39melse\u001b[39;00m:\n\u001b[1;32m   1069\u001b[0m     \u001b[39m# we by definition only have the 0th axis\u001b[39;00m\n",
      "File \u001b[0;32m/Library/Frameworks/Python.framework/Versions/3.10/lib/python3.10/site-packages/pandas/core/frame.py:3917\u001b[0m, in \u001b[0;36mDataFrame._get_value\u001b[0;34m(self, index, col, takeable)\u001b[0m\n\u001b[1;32m   3914\u001b[0m     series \u001b[39m=\u001b[39m \u001b[39mself\u001b[39m\u001b[39m.\u001b[39m_ixs(col, axis\u001b[39m=\u001b[39m\u001b[39m1\u001b[39m)\n\u001b[1;32m   3915\u001b[0m     \u001b[39mreturn\u001b[39;00m series\u001b[39m.\u001b[39m_values[index]\n\u001b[0;32m-> 3917\u001b[0m series \u001b[39m=\u001b[39m \u001b[39mself\u001b[39;49m\u001b[39m.\u001b[39;49m_get_item_cache(col)\n\u001b[1;32m   3918\u001b[0m engine \u001b[39m=\u001b[39m \u001b[39mself\u001b[39m\u001b[39m.\u001b[39mindex\u001b[39m.\u001b[39m_engine\n\u001b[1;32m   3920\u001b[0m \u001b[39mif\u001b[39;00m \u001b[39mnot\u001b[39;00m \u001b[39misinstance\u001b[39m(\u001b[39mself\u001b[39m\u001b[39m.\u001b[39mindex, MultiIndex):\n\u001b[1;32m   3921\u001b[0m     \u001b[39m# CategoricalIndex: Trying to use the engine fastpath may give incorrect\u001b[39;00m\n\u001b[1;32m   3922\u001b[0m     \u001b[39m#  results if our categories are integers that dont match our codes\u001b[39;00m\n\u001b[1;32m   3923\u001b[0m     \u001b[39m# IntervalIndex: IntervalTree has no get_loc\u001b[39;00m\n",
      "File \u001b[0;32m/Library/Frameworks/Python.framework/Versions/3.10/lib/python3.10/site-packages/pandas/core/frame.py:4282\u001b[0m, in \u001b[0;36mDataFrame._get_item_cache\u001b[0;34m(self, item)\u001b[0m\n\u001b[1;32m   4277\u001b[0m res \u001b[39m=\u001b[39m cache\u001b[39m.\u001b[39mget(item)\n\u001b[1;32m   4278\u001b[0m \u001b[39mif\u001b[39;00m res \u001b[39mis\u001b[39;00m \u001b[39mNone\u001b[39;00m:\n\u001b[1;32m   4279\u001b[0m     \u001b[39m# All places that call _get_item_cache have unique columns,\u001b[39;00m\n\u001b[1;32m   4280\u001b[0m     \u001b[39m#  pending resolution of GH#33047\u001b[39;00m\n\u001b[0;32m-> 4282\u001b[0m     loc \u001b[39m=\u001b[39m \u001b[39mself\u001b[39;49m\u001b[39m.\u001b[39;49mcolumns\u001b[39m.\u001b[39;49mget_loc(item)\n\u001b[1;32m   4283\u001b[0m     res \u001b[39m=\u001b[39m \u001b[39mself\u001b[39m\u001b[39m.\u001b[39m_ixs(loc, axis\u001b[39m=\u001b[39m\u001b[39m1\u001b[39m)\n\u001b[1;32m   4285\u001b[0m     cache[item] \u001b[39m=\u001b[39m res\n",
      "File \u001b[0;32m/Library/Frameworks/Python.framework/Versions/3.10/lib/python3.10/site-packages/pandas/core/indexes/base.py:3804\u001b[0m, in \u001b[0;36mIndex.get_loc\u001b[0;34m(self, key, method, tolerance)\u001b[0m\n\u001b[1;32m   3802\u001b[0m     \u001b[39mreturn\u001b[39;00m \u001b[39mself\u001b[39m\u001b[39m.\u001b[39m_engine\u001b[39m.\u001b[39mget_loc(casted_key)\n\u001b[1;32m   3803\u001b[0m \u001b[39mexcept\u001b[39;00m \u001b[39mKeyError\u001b[39;00m \u001b[39mas\u001b[39;00m err:\n\u001b[0;32m-> 3804\u001b[0m     \u001b[39mraise\u001b[39;00m \u001b[39mKeyError\u001b[39;00m(key) \u001b[39mfrom\u001b[39;00m \u001b[39merr\u001b[39;00m\n\u001b[1;32m   3805\u001b[0m \u001b[39mexcept\u001b[39;00m \u001b[39mTypeError\u001b[39;00m:\n\u001b[1;32m   3806\u001b[0m     \u001b[39m# If we have a listlike key, _check_indexing_error will raise\u001b[39;00m\n\u001b[1;32m   3807\u001b[0m     \u001b[39m#  InvalidIndexError. Otherwise we fall through and re-raise\u001b[39;00m\n\u001b[1;32m   3808\u001b[0m     \u001b[39m#  the TypeError.\u001b[39;00m\n\u001b[1;32m   3809\u001b[0m     \u001b[39mself\u001b[39m\u001b[39m.\u001b[39m_check_indexing_error(key)\n",
      "\u001b[0;31mKeyError\u001b[0m: 'rs9923231'"
     ]
    }
   ],
   "source": [
    "sum_of_r = 0\n",
    "T = len(data)\n",
    "d = 17\n",
    "alpha = 1\n",
    "num_a = 3\n",
    "A_list = [np.identity(d), np.identity(d), np.identity(d)]\n",
    "b_list = [np.zeros([d,1]), np.zeros([d,1]), np.zeros([d,1])]\n",
    "\n",
    "linUCB_doses = np.zeros(T)\n",
    "\n",
    "# online sampling\n",
    "for t in range(T):\n",
    "    row = data.sample(replace=False)\n",
    "    # row = data.loc[[t]]\n",
    "\n",
    "    x = new_create_feature_vec(row)\n",
    "\n",
    "    p = np.zeros(3)\n",
    "    for a in range(num_a):\n",
    "        A = A_list[a]\n",
    "        b = b_list[a]\n",
    "        A_inv = np.linalg.inv(A)\n",
    "        theta = A_inv @ b\n",
    "        p[a] = theta.T @ x + alpha * np.sqrt(x.T @ A_inv @ x)\n",
    "    \n",
    "    best_a = np.argmax(p)\n",
    "    linUCB_doses[row.index[0]] = best_a\n",
    "\n",
    "    correct_dose = doses[row.index[0]]\n",
    "\n",
    "    if best_a == correct_dose: \n",
    "        r = 0 \n",
    "    else: r = -1\n",
    "    sum_of_r += r\n",
    "\n",
    "    A_list[best_a] = A_list[best_a] + x @ x.T\n",
    "    b_list[best_a] = b_list[best_a] + r * x\n"
   ]
  },
  {
   "cell_type": "code",
   "execution_count": 12,
   "metadata": {},
   "outputs": [
    {
     "name": "stdout",
     "output_type": "stream",
     "text": [
      "Performance of linUCB: 0.3904\n"
     ]
    }
   ],
   "source": [
    "\n",
    "print(f\"Performance of linUCB: {round(abs(sum_of_r) / len(doses), 4)}\")\n"
   ]
  },
  {
   "cell_type": "code",
   "execution_count": 9,
   "metadata": {},
   "outputs": [],
   "source": [
    "l = []\n",
    "for i in range(1, len(doses)):\n",
    "    num_wrong = np.count_nonzero(doses[:i] - linUCB_doses[:i])\n",
    "    f = num_wrong / i\n",
    "    l.append(f)\n"
   ]
  },
  {
   "cell_type": "code",
   "execution_count": 10,
   "metadata": {},
   "outputs": [
    {
     "data": {
      "text/plain": [
       "[<matplotlib.lines.Line2D at 0x1168cbfa0>]"
      ]
     },
     "execution_count": 10,
     "metadata": {},
     "output_type": "execute_result"
    },
    {
     "data": {
      "image/png": "[encoded data removed]",
      "text/plain": [
       "<Figure size 640x480 with 1 Axes>"
      ]
     },
     "metadata": {},
     "output_type": "display_data"
    }
   ],
   "source": [
    "import matplotlib.pyplot as plt\n",
    "plt.plot(l)"
   ]
  }
 ],
 "metadata": {
  "kernelspec": {
   "display_name": "Python 3 (ipykernel)",
   "language": "python",
   "name": "python3"
  },
  "language_info": {
   "codemirror_mode": {
    "name": "ipython",
    "version": 3
   },
   "file_extension": ".py",
   "mimetype": "text/x-python",
   "name": "python",
   "nbconvert_exporter": "python",
   "pygments_lexer": "ipython3",
   "version": "3.10.2"
  },
  "orig_nbformat": 4
 },
 "nbformat": 4,
 "nbformat_minor": 2
}
