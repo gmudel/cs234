{
 "cells": [
  {
   "cell_type": "code",
   "execution_count": 125,
   "id": "proud-title",
   "metadata": {},
   "outputs": [],
   "source": [
    "import math\n",
    "import pandas as pd"
   ]
  },
  {
   "cell_type": "code",
   "execution_count": 126,
   "id": "homeless-plymouth",
   "metadata": {},
   "outputs": [],
   "source": [
    "data = pd.read_csv('data/warfarin.csv')\n",
    "data = data[data['Therapeutic Dose of Warfarin'].notnull()]"
   ]
  },
  {
   "cell_type": "code",
   "execution_count": 127,
   "id": "79848e25",
   "metadata": {},
   "outputs": [],
   "source": [
    "def assign_bucket(n):\n",
    "    if n < 21:\n",
    "        return 0\n",
    "    elif n > 49:\n",
    "        return 2\n",
    "    else:\n",
    "        return 1\n"
   ]
  },
  {
   "cell_type": "code",
   "execution_count": 128,
   "id": "1b51df6a",
   "metadata": {},
   "outputs": [],
   "source": [
    "doses = data['Therapeutic Dose of Warfarin'][:-1:] # remove last row, contains all nulls"
   ]
  },
  {
   "attachments": {},
   "cell_type": "markdown",
   "id": "25cc232b",
   "metadata": {},
   "source": [
    "## Baseline 1: Always administer 35 mg/wk"
   ]
  },
  {
   "cell_type": "markdown",
   "id": "c9c70ad1",
   "metadata": {},
   "source": []
  },
  {
   "cell_type": "code",
   "execution_count": 129,
   "id": "8cb48f8e",
   "metadata": {},
   "outputs": [
    {
     "name": "stdout",
     "output_type": "stream",
     "text": [
      "Performance of baseline 1: 0.3765\n"
     ]
    }
   ],
   "source": [
    "Y = doses.apply(lambda dose : assign_bucket(dose))\n",
    "num_wrong = (Y != 1).sum()\n",
    "print(f\"Performance of baseline 1: {round(num_wrong / len(buckets), 4)}\")"
   ]
  },
  {
   "attachments": {},
   "cell_type": "markdown",
   "id": "049ad5b3",
   "metadata": {},
   "source": [
    "## Baseline 2: Linear model based on age, height, weight, race and medications"
   ]
  },
  {
   "cell_type": "code",
   "execution_count": 130,
   "id": "fa6b6a23",
   "metadata": {},
   "outputs": [
    {
     "data": {
      "text/plain": [
       "6.0"
      ]
     },
     "execution_count": 130,
     "metadata": {},
     "output_type": "execute_result"
    }
   ],
   "source": [
    "# get median age for imputing\n",
    "age_buckets = data[data.Age.notnull()].Age.apply(lambda a : int(a[0]))\n",
    "med_age = age_buckets.median()\n",
    "med_age"
   ]
  },
  {
   "cell_type": "code",
   "execution_count": 131,
   "id": "7e5f30f8",
   "metadata": {},
   "outputs": [],
   "source": [
    "def compute_dose(row):\n",
    "    def get_age_bucket(row):\n",
    "        age = row.Age\n",
    "        if type(age) == float and math.isnan(age):\n",
    "            # impute age\n",
    "            return med_age\n",
    "        return int(age[0])\n",
    "\n",
    "    def race_weight(row):\n",
    "        if row['Race'] == 'Asian':\n",
    "            return -.6752\n",
    "        elif row['Race'] == 'Black or African American':\n",
    "            return .4060\n",
    "        elif row['Race'] == 'Unknown':\n",
    "            return .0443\n",
    "        else:\n",
    "            return 0\n",
    "    \n",
    "    def enzyme_inducer(row):\n",
    "        if row['Carbamazepine (Tegretol)'] or row['Phenytoin (Dilantin)'] or row['Rifampin or Rifampicin']:\n",
    "            return 1\n",
    "        else:\n",
    "            return 0\n",
    "    \n",
    "    def amidarone(row):\n",
    "        if row['Amiodarone (Cordarone)']: \n",
    "            return 1\n",
    "        else: \n",
    "            return 0\n",
    "        \n",
    "\n",
    "    total = 4.0376\n",
    "    total -= 0.2546 * get_age_bucket(row) \n",
    "    total += 0.0118 * row['Height (cm)']\n",
    "    total += 0.0134 * row['Weight (kg)']\n",
    "    total += race_weight(row) \n",
    "    total += 1.2799 * enzyme_inducer(row)\n",
    "    total -= 0.5695 * amidarone(row)\n",
    "    \n",
    "    return total * total\n"
   ]
  },
  {
   "cell_type": "code",
   "execution_count": 132,
   "id": "35e065e4",
   "metadata": {},
   "outputs": [
    {
     "name": "stdout",
     "output_type": "stream",
     "text": [
      "Performance of baseline 2: 0.3993\n"
     ]
    }
   ],
   "source": [
    "linear_doses = data.apply(lambda row : compute_dose(row), axis=1)\n",
    "linear_buckets = linear_doses.apply(lambda dose : assign_bucket(dose))[:-1:] # remove last row, contains nulls\n",
    "num_wrong = (Y != linear_buckets).sum()\n",
    "print(f\"Performance of baseline 2: {round(num_wrong / len(buckets), 4)}\")"
   ]
  }
 ],
 "metadata": {
  "kernelspec": {
   "display_name": "Python 3 (ipykernel)",
   "language": "python",
   "name": "python3"
  },
  "language_info": {
   "codemirror_mode": {
    "name": "ipython",
    "version": 3
   },
   "file_extension": ".py",
   "mimetype": "text/x-python",
   "name": "python",
   "nbconvert_exporter": "python",
   "pygments_lexer": "ipython3",
   "version": "3.9.12"
  }
 },
 "nbformat": 4,
 "nbformat_minor": 5
}
